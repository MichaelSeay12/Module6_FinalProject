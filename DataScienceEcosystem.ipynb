{
 "cells": [
  {
   "cell_type": "markdown",
   "id": "d19c5156-7d87-4b5e-9382-1cb3ca108d3b",
   "metadata": {},
   "source": [
    "# Data Science Tools and Ecosystem"
   ]
  },
  {
   "cell_type": "markdown",
   "id": "c771b4db-83ee-40bc-a1dc-8bae9ee53ad1",
   "metadata": {},
   "source": [
    "In this notebook, Data Science Tools and Ecosystem are summarized."
   ]
  },
  {
   "cell_type": "markdown",
   "id": "fa5ea904-ee09-4586-a655-60980dc8a095",
   "metadata": {},
   "source": [
    "**Objectives:**\n",
    "+ List of Popular Data Science Languages\n",
    "+ Commonly Used Data Science Libraries\n",
    "+ Creation of Tables in Jupyter Notebook\n",
    "+ Using Arithmetic Methods in Python\n",
    "+ Converting Minutes into Hours"
   ]
  },
  {
   "cell_type": "markdown",
   "id": "c860ae37-f60f-49ce-9ee4-e9e31368e2c5",
   "metadata": {},
   "source": [
    "A few of the popular languages used by Data Scientists are:\n",
    "1. Python\n",
    "2. R\n",
    "3. JavaScript\n",
    "4. SQL"
   ]
  },
  {
   "cell_type": "markdown",
   "id": "bd71c5c5-3ad7-4797-b34f-06086ab4e6a5",
   "metadata": {},
   "source": [
    "Some of the commonly used libraries used by Data Scientists include:\n",
    "1. NumPy\n",
    "2. Seaborn\n",
    "3. Pandas\n",
    "4. Matplotlib\n",
    "5. Keras\n",
    "6. TensorFlow\n",
    "7. Ggplot2"
   ]
  },
  {
   "cell_type": "markdown",
   "id": "dd112ab5-7cb6-4c5a-b8ca-ef6467f6134c",
   "metadata": {},
   "source": [
    "| Data Science Tools |\n",
    "| -----------------|\n",
    "| Jupyter Notebooks |\n",
    "| RStudio |\n",
    "| GitHub |\n",
    "| Visual Studio Code |\n"
   ]
  },
  {
   "cell_type": "markdown",
   "id": "20ac909e-67ff-4791-8d33-2af57c3e3ad1",
   "metadata": {},
   "source": [
    "### Below are a couple examples of evaluating aritmetic expressions in Python."
   ]
  },
  {
   "cell_type": "code",
   "execution_count": 8,
   "id": "ad4023b2-de44-4ad8-8e35-bdc37cb587c5",
   "metadata": {},
   "outputs": [
    {
     "data": {
      "text/plain": [
       "17"
      ]
     },
     "execution_count": 8,
     "metadata": {},
     "output_type": "execute_result"
    }
   ],
   "source": [
    "# This is a simple arithmetic expression to multiply then add integers.\n",
    "\n",
    "(3*4)+5"
   ]
  },
  {
   "cell_type": "code",
   "execution_count": 7,
   "id": "96761589-b7ed-4547-b7f5-ddbf48530a44",
   "metadata": {},
   "outputs": [
    {
     "data": {
      "text/plain": [
       "3.3333333333333335"
      ]
     },
     "execution_count": 7,
     "metadata": {},
     "output_type": "execute_result"
    }
   ],
   "source": [
    "# This will convert 200 minutes into hours by dividing by 60.\n",
    "\n",
    "200/60"
   ]
  },
  {
   "cell_type": "markdown",
   "id": "dddc3f8c-c814-4dee-bd0c-0624ea14f64b",
   "metadata": {},
   "source": [
    "## Author\n",
    "Michael Morrow"
   ]
  }
 ],
 "metadata": {
  "kernelspec": {
   "display_name": "Python 3 (ipykernel)",
   "language": "python",
   "name": "python3"
  },
  "language_info": {
   "codemirror_mode": {
    "name": "ipython",
    "version": 3
   },
   "file_extension": ".py",
   "mimetype": "text/x-python",
   "name": "python",
   "nbconvert_exporter": "python",
   "pygments_lexer": "ipython3",
   "version": "3.12.8"
  }
 },
 "nbformat": 4,
 "nbformat_minor": 5
}
